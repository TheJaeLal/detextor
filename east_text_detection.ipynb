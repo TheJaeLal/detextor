{
 "cells": [
  {
   "cell_type": "code",
   "execution_count": 1,
   "metadata": {},
   "outputs": [],
   "source": [
    "import cv2\n",
    "import matplotlib.pyplot as plt\n",
    "\n",
    "import math"
   ]
  },
  {
   "cell_type": "code",
   "execution_count": 2,
   "metadata": {},
   "outputs": [],
   "source": [
    "def show_img(opencv_image):\n",
    "    \"\"\"\n",
    "    Converts Opencv Image via Matplotlib\n",
    "    \n",
    "    \"\"\"\n",
    "    \n",
    "    plt_image = opencv_image\n",
    "    if opencv_image.shape[-1] == 3:\n",
    "        plt_image = cv2.cvtColor(opencv_image, cv2.COLOR_BGR2RGB)\n",
    "    \n",
    "        \n",
    "    plt.imshow(plt_image)\n",
    "    plt.show()"
   ]
  },
  {
   "cell_type": "code",
   "execution_count": 3,
   "metadata": {},
   "outputs": [],
   "source": [
    "def get_scaled_dims(height, width):\n",
    "    \"\"\"\n",
    "    Calculate the minimum down-scaling required to make dimensions multiple of 32\n",
    "    \"\"\"\n",
    "    new_height = ((height//32)) * 32\n",
    "    new_width = ((width//32)) * 32\n",
    "    \n",
    "    return new_height, new_width"
   ]
  },
  {
   "cell_type": "code",
   "execution_count": 4,
   "metadata": {},
   "outputs": [],
   "source": [
    "def decode(scores, geometry, scoreThresh):\n",
    "    detections = []\n",
    "    confidences = []\n",
    "\n",
    "    ############ CHECK DIMENSIONS AND SHAPES OF geometry AND scores ############\n",
    "    assert len(scores.shape) == 4, \"Incorrect dimensions of scores\"\n",
    "    assert len(geometry.shape) == 4, \"Incorrect dimensions of geometry\"\n",
    "    assert scores.shape[0] == 1, \"Invalid dimensions of scores\"\n",
    "    assert geometry.shape[0] == 1, \"Invalid dimensions of geometry\"\n",
    "    assert scores.shape[1] == 1, \"Invalid dimensions of scores\"\n",
    "    assert geometry.shape[1] == 5, \"Invalid dimensions of geometry\"\n",
    "    assert scores.shape[2] == geometry.shape[2], \"Invalid dimensions of scores and geometry\"\n",
    "    assert scores.shape[3] == geometry.shape[3], \"Invalid dimensions of scores and geometry\"\n",
    "    height = scores.shape[2]\n",
    "    width = scores.shape[3]\n",
    "    for y in range(0, height):\n",
    "\n",
    "        # Extract data from scores\n",
    "        scoresData = scores[0][0][y]\n",
    "        x0_data = geometry[0][0][y]\n",
    "        x1_data = geometry[0][1][y]\n",
    "        x2_data = geometry[0][2][y]\n",
    "        x3_data = geometry[0][3][y]\n",
    "        anglesData = geometry[0][4][y]\n",
    "        for x in range(0, width):\n",
    "            score = scoresData[x]\n",
    "\n",
    "            # If score is lower than threshold score, move to next x\n",
    "            if(score < scoreThresh):\n",
    "                continue\n",
    "\n",
    "            # Calculate offset\n",
    "            offsetX = x * 4.0\n",
    "            offsetY = y * 4.0\n",
    "            angle = anglesData[x]\n",
    "\n",
    "            # Calculate cos and sin of angle\n",
    "            cosA = math.cos(angle)\n",
    "            sinA = math.sin(angle)\n",
    "            h = x0_data[x] + x2_data[x]\n",
    "            w = x1_data[x] + x3_data[x]\n",
    "\n",
    "            # Calculate offset\n",
    "            offset = ([offsetX + cosA * x1_data[x] + sinA * x2_data[x], offsetY - sinA * x1_data[x] + cosA * x2_data[x]])\n",
    "\n",
    "            # Find points for rectangle\n",
    "            p1 = (-sinA * h + offset[0], -cosA * h + offset[1])\n",
    "            p3 = (-cosA * w + offset[0],  sinA * w + offset[1])\n",
    "            center = (0.5*(p1[0]+p3[0]), 0.5*(p1[1]+p3[1]))\n",
    "            detections.append((center, (w,h), -1*angle * 180.0 / math.pi))\n",
    "            confidences.append(float(score))\n",
    "\n",
    "    # Return detections and confidences\n",
    "    return [detections, confidences]"
   ]
  },
  {
   "cell_type": "markdown",
   "metadata": {},
   "source": [
    "### Parameters"
   ]
  },
  {
   "cell_type": "code",
   "execution_count": 5,
   "metadata": {},
   "outputs": [],
   "source": [
    "#Model path\n",
    "model = 'frozen_east_text_detection.pb'\n",
    "\n",
    "#Model Parameters\n",
    "confThreshold = 0.5\n",
    "nmsThreshold = 0.4\n",
    "\n",
    "#Input Parameters\n",
    "img_path = 'images/sign.jpg'\n",
    "inpWidth = None\n",
    "inpHeight = None"
   ]
  },
  {
   "cell_type": "markdown",
   "metadata": {},
   "source": [
    "### Load model"
   ]
  },
  {
   "cell_type": "code",
   "execution_count": 6,
   "metadata": {},
   "outputs": [],
   "source": [
    "# Load network\n",
    "net = cv2.dnn.readNet(model)\n",
    "\n",
    "outNames = []\n",
    "outNames.append(\"feature_fusion/Conv_7/Sigmoid\")\n",
    "outNames.append(\"feature_fusion/concat_3\")"
   ]
  },
  {
   "cell_type": "markdown",
   "metadata": {},
   "source": [
    "### Prepare Input"
   ]
  },
  {
   "cell_type": "code",
   "execution_count": 7,
   "metadata": {},
   "outputs": [],
   "source": [
    "#Read the image\n",
    "image = cv2.imread(img_path)\n",
    "\n",
    "# Get image height and width\n",
    "height_ = image.shape[0]\n",
    "width_ = image.shape[1]\n",
    "\n",
    "#Automatically calculate minimal scaling required..\n",
    "if inpHeight is None and inpWidth is None: \n",
    "    inpHeight, inpWidth = get_scaled_dims(height_, width_)\n",
    "    image = cv2.resize(image, (inpWidth,inpHeight), interpolation=cv2.INTER_AREA)\n",
    "    rW,rH = 1,1\n",
    "    \n",
    "else:\n",
    "    rW = width_ / float(inpWidth)\n",
    "    rH = height_ / float(inpHeight)\n",
    "\n",
    "# Create a 4D blob from image.\n",
    "blob = cv2.dnn.blobFromImage(image, scalefactor=1.0, mean=(123.68, 116.78, 103.94), swapRB=True, crop=False)"
   ]
  },
  {
   "cell_type": "markdown",
   "metadata": {},
   "source": [
    "### Run the model"
   ]
  },
  {
   "cell_type": "code",
   "execution_count": 8,
   "metadata": {},
   "outputs": [],
   "source": [
    "net.setInput(blob)\n",
    "outs = net.forward(outNames)\n",
    "t, _ = net.getPerfProfile()"
   ]
  },
  {
   "cell_type": "markdown",
   "metadata": {},
   "source": [
    "### Get scores and geometry"
   ]
  },
  {
   "cell_type": "code",
   "execution_count": 9,
   "metadata": {},
   "outputs": [],
   "source": [
    "scores = outs[0]\n",
    "geometry = outs[1]\n",
    "[boxes, confidences] = decode(scores, geometry, confThreshold)"
   ]
  },
  {
   "cell_type": "markdown",
   "metadata": {},
   "source": [
    "### Post-processing to remove weak & overlapping bounding-boxes"
   ]
  },
  {
   "cell_type": "code",
   "execution_count": 10,
   "metadata": {},
   "outputs": [],
   "source": [
    "# Apply Non-Max Suppression (NMS)\n",
    "indices = cv2.dnn.NMSBoxesRotated(boxes, confidences, confThreshold,nmsThreshold)\n",
    "\n",
    "# #Ignore Non-Max Suppression\n",
    "# indices = [[i] for i in range(len(boxes))]\n",
    "\n",
    "for i in indices:\n",
    "    # get 4 corners of the rotated rect\n",
    "    vertices = cv2.boxPoints(boxes[i[0]])\n",
    "    # scale the bounding box coordinates based on the respective ratios\n",
    "    for j in range(4):\n",
    "        vertices[j][0] *= rW\n",
    "        vertices[j][1] *= rH\n",
    "    \n",
    "    #Draw the bounding boxes\n",
    "    for j in range(4):\n",
    "        p1 = (vertices[j][0], vertices[j][1])\n",
    "        p2 = (vertices[(j + 1) % 4][0], vertices[(j + 1) % 4][1])\n",
    "        cv2.line(image, p1, p2, (0, 255, 0), 1)"
   ]
  },
  {
   "cell_type": "code",
   "execution_count": 11,
   "metadata": {},
   "outputs": [
    {
     "data": {
      "text/plain": [
       "True"
      ]
     },
     "execution_count": 11,
     "metadata": {},
     "output_type": "execute_result"
    }
   ],
   "source": [
    "cv2.imwrite('text_detection_result.jpg', image)"
   ]
  }
 ],
 "metadata": {
  "kernelspec": {
   "display_name": "Python [conda env:text_detection] *",
   "language": "python",
   "name": "conda-env-text_detection-py"
  },
  "language_info": {
   "codemirror_mode": {
    "name": "ipython",
    "version": 3
   },
   "file_extension": ".py",
   "mimetype": "text/x-python",
   "name": "python",
   "nbconvert_exporter": "python",
   "pygments_lexer": "ipython3",
   "version": "3.7.1"
  }
 },
 "nbformat": 4,
 "nbformat_minor": 2
}
